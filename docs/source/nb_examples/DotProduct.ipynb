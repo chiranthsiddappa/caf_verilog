{
 "cells": [
  {
   "cell_type": "markdown",
   "metadata": {},
   "source": [
    "# Dot Product"
   ]
  },
  {
   "cell_type": "code",
   "execution_count": null,
   "metadata": {},
   "outputs": [],
   "source": [
    "%pylab inline"
   ]
  },
  {
   "cell_type": "code",
   "execution_count": null,
   "metadata": {},
   "outputs": [],
   "source": [
    "from gps_helper.prn import PRN\n",
    "from sk_dsp_comm import sigsys as ss\n",
    "from sk_dsp_comm import digitalcom as dc\n",
    "from caf_verilog.dot_product import DotProduct"
   ]
  },
  {
   "cell_type": "code",
   "execution_count": null,
   "metadata": {},
   "outputs": [],
   "source": [
    "x = array([-1, -1, 1, 1])\n",
    "y = array([1, 1, -1, -1])\n",
    "dot(x, y.T)"
   ]
  },
  {
   "cell_type": "markdown",
   "metadata": {},
   "source": [
    "## Test Signals"
   ]
  },
  {
   "cell_type": "code",
   "execution_count": null,
   "metadata": {},
   "outputs": [],
   "source": [
    "prn = PRN(15)\n",
    "prn2 = PRN(20)\n",
    "fs = 625e3\n",
    "Ns = fs / 125e3\n",
    "prn_seq = prn.prn_seq()\n",
    "prn_seq2 = prn2.prn_seq()\n",
    "prn_seq,b = ss.NRZ_bits2(array(prn_seq), Ns)\n",
    "prn_seq2,b2 = ss.NRZ_bits2(array(prn_seq2), Ns)"
   ]
  },
  {
   "cell_type": "code",
   "execution_count": null,
   "metadata": {},
   "outputs": [],
   "source": [
    "len(prn_seq)"
   ]
  },
  {
   "cell_type": "code",
   "execution_count": null,
   "metadata": {},
   "outputs": [],
   "source": [
    "plot(prn_seq[-200:])"
   ]
  },
  {
   "cell_type": "code",
   "execution_count": null,
   "metadata": {},
   "outputs": [],
   "source": [
    "plot(prn_seq[-100:])"
   ]
  },
  {
   "cell_type": "code",
   "execution_count": null,
   "metadata": {},
   "outputs": [],
   "source": [
    "plot(prn_seq[-200:-100])"
   ]
  },
  {
   "cell_type": "markdown",
   "metadata": {},
   "source": [
    "### Using a circular shift"
   ]
  },
  {
   "cell_type": "markdown",
   "metadata": {},
   "source": [
    "#### Negative Time Shift (Delayed Arrival)"
   ]
  },
  {
   "cell_type": "code",
   "execution_count": null,
   "metadata": {},
   "outputs": [],
   "source": [
    "integration_time = 200\n",
    "prn_stored = prn_seq[-3*integration_time:-2*integration_time]\n",
    "shift_direction = -50\n",
    "prn_shift = prn_seq[-3*integration_time+shift_direction:\n",
    "                    -2*integration_time+shift_direction]\n",
    "dot_1000 = []\n",
    "f, axarr = plt.subplots(2)\n",
    "axarr[0].plot(prn_stored)\n",
    "axarr[1].plot(prn_shift)\n",
    "for ii in range(0, integration_time):\n",
    "    dot_res = dot(prn_stored, prn_shift[:integration_time].T)\n",
    "    dot_1000.append(dot_res)\n",
    "    prn_shift = np.roll(prn_shift, 1)"
   ]
  },
  {
   "cell_type": "code",
   "execution_count": null,
   "metadata": {},
   "outputs": [],
   "source": [
    "plot(dot_1000)\n",
    "grid();"
   ]
  },
  {
   "cell_type": "markdown",
   "metadata": {},
   "source": [
    "#### Positive Time Shift (Early Arrival)"
   ]
  },
  {
   "cell_type": "code",
   "execution_count": null,
   "metadata": {},
   "outputs": [],
   "source": [
    "integration_time = 200\n",
    "prn_stored = prn_seq[-3*integration_time:-2*integration_time]\n",
    "shift_direction = +50\n",
    "prn_shift = prn_seq[-3*integration_time+shift_direction:\n",
    "                    -2*integration_time+shift_direction]\n",
    "dot_1000 = []\n",
    "f, axarr = plt.subplots(2)\n",
    "axarr[0].plot(prn_stored)\n",
    "axarr[1].plot(prn_shift)\n",
    "for ii in range(0, integration_time):\n",
    "    dot_res = dot(prn_stored, prn_shift[:integration_time].T)\n",
    "    dot_1000.append(dot_res)\n",
    "    prn_shift = np.roll(prn_shift, 1)"
   ]
  },
  {
   "cell_type": "code",
   "execution_count": null,
   "metadata": {},
   "outputs": [],
   "source": [
    "plot(dot_1000)\n",
    "grid();"
   ]
  },
  {
   "cell_type": "markdown",
   "metadata": {},
   "source": [
    "### Using a shifting buffer"
   ]
  },
  {
   "cell_type": "markdown",
   "metadata": {},
   "source": [
    "#### Negative Time Shift (Delayed Arrival)"
   ]
  },
  {
   "cell_type": "code",
   "execution_count": null,
   "metadata": {},
   "outputs": [],
   "source": [
    "integration_time = 200\n",
    "prn_stored = prn_seq[-3*integration_time:-2*integration_time]\n",
    "shift_direction = -150\n",
    "prn_shift_start = -3*integration_time+shift_direction\n",
    "prn_shift_end = -2*integration_time+shift_direction\n",
    "prn_shift = prn_seq[prn_shift_start:\n",
    "                    prn_shift_end]\n",
    "dot_1000 = []\n",
    "f, axarr = plt.subplots(2)\n",
    "axarr[0].plot(prn_stored)\n",
    "axarr[1].plot(prn_shift)\n",
    "for ii in range(0, integration_time):\n",
    "    prn_shift = prn_seq[prn_shift_start:\n",
    "                       prn_shift_end]\n",
    "    dot_res = dot(prn_stored, prn_shift[:integration_time].T)\n",
    "    dot_1000.append(dot_res)\n",
    "    prn_shift_start += 1\n",
    "    prn_shift_end += 1"
   ]
  },
  {
   "cell_type": "code",
   "execution_count": null,
   "metadata": {},
   "outputs": [],
   "source": [
    "plot(dot_1000)\n",
    "grid();"
   ]
  },
  {
   "cell_type": "markdown",
   "metadata": {},
   "source": [
    "#### Positive Time Shift (Early Arrival)"
   ]
  },
  {
   "cell_type": "code",
   "execution_count": null,
   "metadata": {},
   "outputs": [],
   "source": [
    "integration_time = 200\n",
    "prn_stored = prn_seq[-3*integration_time:-2*integration_time]\n",
    "shift_direction = +150\n",
    "prn_shift_start = -3*integration_time+shift_direction\n",
    "prn_shift_end = -2*integration_time+shift_direction\n",
    "prn_shift = prn_seq[prn_shift_start:\n",
    "                    prn_shift_end]\n",
    "dot_1000 = []\n",
    "f, axarr = plt.subplots(2)\n",
    "axarr[0].plot(prn_stored)\n",
    "axarr[1].plot(prn_shift)\n",
    "for ii in range(0, integration_time):\n",
    "    prn_shift = prn_seq[prn_shift_start:\n",
    "                       prn_shift_end]\n",
    "    dot_res = dot(prn_stored, prn_shift[:integration_time].T)\n",
    "    dot_1000.append(dot_res)\n",
    "    prn_shift_start -= 1\n",
    "    prn_shift_end -= 1"
   ]
  },
  {
   "cell_type": "code",
   "execution_count": null,
   "metadata": {},
   "outputs": [],
   "source": [
    "plot(dot_1000)\n",
    "grid();"
   ]
  },
  {
   "cell_type": "code",
   "execution_count": null,
   "metadata": {},
   "outputs": [],
   "source": []
  }
 ],
 "metadata": {
  "kernelspec": {
   "display_name": "Python 3",
   "language": "python",
   "name": "python3"
  },
  "language_info": {
   "codemirror_mode": {
    "name": "ipython",
    "version": 3
   },
   "file_extension": ".py",
   "mimetype": "text/x-python",
   "name": "python",
   "nbconvert_exporter": "python",
   "pygments_lexer": "ipython3",
   "version": "3.6.7"
  }
 },
 "nbformat": 4,
 "nbformat_minor": 2
}
