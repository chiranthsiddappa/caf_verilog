{
 "cells": [
  {
   "cell_type": "code",
   "execution_count": null,
   "metadata": {},
   "outputs": [],
   "source": [
    "import matplotlib.pyplot as plt\n",
    "from matplotlib.mlab import psd\n",
    "import numpy as np\n",
    "from sk_dsp_comm import sigsys as ss\n",
    "from caf_verilog.quantizer import quantize"
   ]
  },
  {
   "cell_type": "markdown",
   "metadata": {},
   "source": [
    "# Quantization"
   ]
  },
  {
   "cell_type": "markdown",
   "metadata": {},
   "source": [
    "## Sample Signal"
   ]
  },
  {
   "cell_type": "code",
   "execution_count": null,
   "metadata": {},
   "outputs": [],
   "source": [
    "n = np.arange(0,10000)\n",
    "x = np.cos(2*np.pi*0.211*n)"
   ]
  },
  {
   "cell_type": "code",
   "execution_count": null,
   "metadata": {},
   "outputs": [],
   "source": [
    "Px, f = psd(x,2**10,Fs=1)\n",
    "plt.plot(f, 10*np.log10(Px))\n",
    "plt.ylim([-80, 25])\n",
    "plt.ylabel(\"Power Spectral Density (dB)\")\n",
    "plt.xlabel(r'Normalized Frequency $\\omega/2\\pi$')\n",
    "plt.show()"
   ]
  },
  {
   "cell_type": "markdown",
   "metadata": {},
   "source": [
    "## Prepare a signal using scikit-dsp-comm's simpleQuant"
   ]
  },
  {
   "cell_type": "code",
   "execution_count": null,
   "metadata": {},
   "outputs": [],
   "source": [
    "n_bits = 12\n",
    "yq = ss.simpleQuant(x,n_bits,max(x),'sat')\n",
    "Px, f = psd(yq,2**10,Fs=1)\n",
    "plt.plot(f, 10*np.log10(Px))\n",
    "plt.ylim([-80, 25])\n",
    "plt.ylabel(\"Power Spectral Density (dB)\")\n",
    "plt.xlabel(r'Normalized Frequency $\\omega/2\\pi$')\n",
    "plt.show()"
   ]
  },
  {
   "cell_type": "code",
   "execution_count": null,
   "metadata": {},
   "outputs": [],
   "source": [
    "plt.plot(yq[:10])"
   ]
  },
  {
   "cell_type": "markdown",
   "metadata": {},
   "source": [
    "## Prepare a signal scaled to 12 bits using quantize"
   ]
  },
  {
   "cell_type": "code",
   "execution_count": null,
   "metadata": {},
   "outputs": [],
   "source": [
    "ys12 = quantize(x, 12)"
   ]
  },
  {
   "cell_type": "code",
   "execution_count": null,
   "metadata": {},
   "outputs": [],
   "source": [
    "Px, f = psd(ys12,2**10,Fs=1)\n",
    "plt.plot(f, 10*np.log10(Px))\n",
    "plt.ylabel(\"Power Spectral Density (dB)\")\n",
    "plt.xlabel(r'Normalized Frequency $\\omega/2\\pi$')\n",
    "plt.show()"
   ]
  },
  {
   "cell_type": "code",
   "execution_count": null,
   "metadata": {},
   "outputs": [],
   "source": [
    "plt.plot(ys12[:10])"
   ]
  },
  {
   "cell_type": "markdown",
   "metadata": {},
   "source": [
    "## Prepare a signal scaled to 8 bits using quantize"
   ]
  },
  {
   "cell_type": "code",
   "execution_count": null,
   "metadata": {},
   "outputs": [],
   "source": [
    "ys8 = quantize(x, 8)"
   ]
  },
  {
   "cell_type": "code",
   "execution_count": null,
   "metadata": {},
   "outputs": [],
   "source": [
    "Px, f = psd(ys8,2**10,Fs=1)\n",
    "plt.plot(f, 10*np.log10(Px))\n",
    "plt.ylabel(\"Power Spectral Density (dB)\")\n",
    "plt.xlabel(r'Normalized Frequency $\\omega/2\\pi$')\n",
    "plt.show()"
   ]
  },
  {
   "cell_type": "code",
   "execution_count": null,
   "metadata": {},
   "outputs": [],
   "source": [
    "plt.plot(ys8[:10])"
   ]
  }
 ],
 "metadata": {
  "kernelspec": {
   "display_name": "Python 3",
   "language": "python",
   "name": "python3"
  },
  "language_info": {
   "codemirror_mode": {
    "name": "ipython",
    "version": 3
   },
   "file_extension": ".py",
   "mimetype": "text/x-python",
   "name": "python",
   "nbconvert_exporter": "python",
   "pygments_lexer": "ipython3",
   "version": "3.6.6"
  }
 },
 "nbformat": 4,
 "nbformat_minor": 2
}
