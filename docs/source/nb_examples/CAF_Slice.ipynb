{
 "cells": [
  {
   "cell_type": "markdown",
   "id": "a341380c-746e-4b36-ba1b-6b8c1dfb9099",
   "metadata": {},
   "source": [
    "# CAF Slice\n",
    "\n",
    "Perform one frequency shift $f$ for a cross-correlation,\n",
    "\\begin{equation}\n",
    "{\\displaystyle (f\\star g)[f, n]\\ = \\sum _{m=-\\infty }^{\\infty }{{f^{\\star}[m]}}g[m+n] e^{-j2\\pi ft}}\n",
    "\\end{equation}"
   ]
  },
  {
   "cell_type": "code",
   "execution_count": null,
   "id": "fb1ec156-c633-4322-80c2-aa125430ce1f",
   "metadata": {},
   "outputs": [],
   "source": [
    "from matplotlib import pyplot as plt\n",
    "import numpy as np\n",
    "from caf_verilog.sim_helper import sim_shift\n",
    "from gps_helper.prn import PRN\n",
    "from sk_dsp_comm import sigsys as ss\n",
    "from sk_dsp_comm import digitalcom as dc"
   ]
  },
  {
   "cell_type": "code",
   "execution_count": null,
   "id": "26e4e232-17eb-4f19-bebc-b741eeedb533",
   "metadata": {},
   "outputs": [],
   "source": [
    "fs = 625e3\n",
    "freq_shift = 20e3\n",
    "center = 350\n",
    "corr_length = 250\n",
    "prn = PRN(10)\n",
    "prn_seq = prn.prn_seq()\n",
    "prn_seq, b = ss.nrz_bits2(np.array(prn_seq), 5)"
   ]
  },
  {
   "cell_type": "code",
   "execution_count": null,
   "id": "976bb028-6879-4201-90ae-028a8fdbfbff",
   "metadata": {},
   "outputs": [],
   "source": [
    "prn_seq = prn_seq + (prn_seq * 1j)"
   ]
  },
  {
   "cell_type": "code",
   "execution_count": null,
   "id": "3d1a5086-35cf-4468-95f1-0e101a9e12e6",
   "metadata": {},
   "outputs": [],
   "source": [
    "ref, rec = sim_shift(prn_seq, center, corr_length, shift=0, freq_shift=freq_shift, fs=fs, padding=True)\n",
    "ref = np.array(ref)\n",
    "rec = np.array(rec)"
   ]
  },
  {
   "cell_type": "code",
   "execution_count": null,
   "id": "ba0bc923-5198-4c18-88ad-1394e24069e7",
   "metadata": {},
   "outputs": [],
   "source": [
    "plt.plot(ref.real)\n",
    "plt.plot(np.array(rec).real)"
   ]
  },
  {
   "cell_type": "code",
   "execution_count": null,
   "id": "41a8b402-061b-48b1-ae32-79185b79745b",
   "metadata": {},
   "outputs": [],
   "source": [
    "rxy, lags = dc.xcorr(ref, rec, corr_length)\n",
    "plt.plot(lags, abs(rxy))\n",
    "plt.xlabel(\"Center Offset (Samples)\")\n",
    "plt.ylim([0, 1])\n",
    "plt.grid();"
   ]
  },
  {
   "cell_type": "code",
   "execution_count": null,
   "id": "dd3be059-70c7-4334-89cf-dcf55ed2181a",
   "metadata": {},
   "outputs": [],
   "source": [
    "t = np.arange(len(ref))\n",
    "ref_shifted = ref * np.exp(2 * np.pi * (freq_shift / fs) * t * 1j)"
   ]
  },
  {
   "cell_type": "code",
   "execution_count": null,
   "id": "90e58d22-2225-4d4b-ba16-cb07c9430fdc",
   "metadata": {},
   "outputs": [],
   "source": [
    "plt.plot(ref_shifted.real)\n",
    "plt.plot(rec.real)"
   ]
  },
  {
   "cell_type": "code",
   "execution_count": null,
   "id": "52b4497a-73e0-446c-9d3a-b05584425226",
   "metadata": {},
   "outputs": [],
   "source": [
    "rxy, lags = dc.xcorr(ref_shifted, rec, corr_length)\n",
    "plt.plot(lags, abs(rxy))\n",
    "plt.xlabel(\"Center Offset (Samples)\")\n",
    "plt.ylim([0, 1])\n",
    "plt.grid();"
   ]
  },
  {
   "cell_type": "code",
   "execution_count": null,
   "id": "bd602025-06ae-4dbc-8ee2-7272005650d0",
   "metadata": {},
   "outputs": [],
   "source": [
    "ref_start_shift = [val for val in ref]\n",
    "for i in range(0, 200):\n",
    "    ref_start_shift[i + 100] = ref_start_shift[i + 100] * np.exp(2 * np.pi * (freq_shift / fs) * i * 1j)\n",
    "ref_start_shift = np.array(ref_start_shift)"
   ]
  },
  {
   "cell_type": "code",
   "execution_count": null,
   "id": "411451b1-6176-4c7f-bdcc-41a58c230009",
   "metadata": {},
   "outputs": [],
   "source": [
    "plt.plot(ref_start_shift.real)\n",
    "plt.plot(rec.real)"
   ]
  },
  {
   "cell_type": "code",
   "execution_count": null,
   "id": "e480cb0f-a7bc-410a-9c6c-4864248ac91c",
   "metadata": {},
   "outputs": [],
   "source": [
    "rxy, lags = dc.xcorr(ref_start_shift, rec, corr_length)\n",
    "plt.plot(lags, abs(rxy))\n",
    "plt.xlabel(\"Center Offset (Samples)\")\n",
    "plt.ylim([0, 1])\n",
    "plt.grid();"
   ]
  },
  {
   "cell_type": "markdown",
   "id": "dace455c-8a15-4565-8c0f-960cbd148b73",
   "metadata": {},
   "source": [
    "## Dot Product"
   ]
  },
  {
   "cell_type": "code",
   "execution_count": null,
   "id": "637c71c2-b608-4bb7-be52-e0e7cbb9a1ee",
   "metadata": {},
   "outputs": [],
   "source": [
    "from caf_verilog.xcorr import dot_xcorr"
   ]
  },
  {
   "cell_type": "code",
   "execution_count": null,
   "id": "8c8ef77a-9869-4d0a-ba0c-c1df6c2d889e",
   "metadata": {},
   "outputs": [],
   "source": [
    "ref, rec = sim_shift(prn_seq, center, corr_length, shift=0, freq_shift=freq_shift, fs=fs)\n",
    "ref = np.array(ref)\n",
    "rec = np.array(rec)"
   ]
  },
  {
   "cell_type": "code",
   "execution_count": null,
   "id": "3a6c2b17-3677-44b7-a917-cf2532bb5152",
   "metadata": {},
   "outputs": [],
   "source": [
    "rr = dot_xcorr(ref, rec)\n",
    "rr = np.array(rr)"
   ]
  },
  {
   "cell_type": "code",
   "execution_count": null,
   "id": "1392f6bc-d4fb-49ad-98c2-ed9a36c6179f",
   "metadata": {},
   "outputs": [],
   "source": [
    "plt.plot(abs(rr))\n",
    "plt.grid();"
   ]
  },
  {
   "cell_type": "code",
   "execution_count": null,
   "id": "a8b7f5ce-ba25-4ca2-8ce3-222d36ac9781",
   "metadata": {},
   "outputs": [],
   "source": [
    "t = np.arange(len(ref))\n",
    "ref_shifted = ref * np.exp(2 * np.pi * (freq_shift / fs) * t * 1j)"
   ]
  },
  {
   "cell_type": "code",
   "execution_count": null,
   "id": "e8f1df5b-1f3e-4509-8984-212c29fb2ebc",
   "metadata": {},
   "outputs": [],
   "source": [
    "rr_shifted = dot_xcorr(np.conj(ref_shifted), rec)\n",
    "rr_shifted = np.array(rr_shifted)"
   ]
  },
  {
   "cell_type": "code",
   "execution_count": null,
   "id": "cdb83cf7-aa79-48c4-90e8-cb23843c42f8",
   "metadata": {},
   "outputs": [],
   "source": [
    "plt.plot(abs(rr_shifted))\n",
    "plt.grid();"
   ]
  },
  {
   "cell_type": "markdown",
   "id": "8be37dd9-8048-44f7-a677-8b687fda4c64",
   "metadata": {},
   "source": [
    "Instead of the complex conjugate, we can also invert the frequency shift."
   ]
  },
  {
   "cell_type": "code",
   "execution_count": null,
   "id": "2574dfa4-1460-4ff3-9f33-f02e255e0469",
   "metadata": {},
   "outputs": [],
   "source": [
    "ref_shifted_inv = ref * np.exp(2 * np.pi * (-freq_shift / fs) * t * 1j)"
   ]
  },
  {
   "cell_type": "code",
   "execution_count": null,
   "id": "cd6def92-8680-4e39-8650-404d315d7391",
   "metadata": {},
   "outputs": [],
   "source": [
    "rr_shifted_inv = dot_xcorr(ref_shifted_inv, rec)\n",
    "rr_shifted_inv = np.array(rr_shifted_inv)"
   ]
  },
  {
   "cell_type": "code",
   "execution_count": null,
   "id": "8f7b38bd-c363-40c1-aced-19245efc2194",
   "metadata": {},
   "outputs": [],
   "source": [
    "plt.plot(abs(rr_shifted_inv))\n",
    "plt.grid();"
   ]
  },
  {
   "cell_type": "markdown",
   "id": "842a9481-40f1-4e05-9608-dbfc51b252e2",
   "metadata": {},
   "source": [
    "### Quantized Simulation"
   ]
  },
  {
   "cell_type": "code",
   "execution_count": null,
   "id": "93df5244-e39c-49eb-98cb-7e104f54110a",
   "metadata": {},
   "outputs": [],
   "source": [
    "from caf_verilog.quantizer import quantize\n",
    "from caf_verilog.caf_slice import caf_slice_dot"
   ]
  },
  {
   "cell_type": "code",
   "execution_count": null,
   "id": "04a06a09-b653-4a3e-ae6f-bbb8b2c04c6e",
   "metadata": {},
   "outputs": [],
   "source": [
    "ref_quant = quantize(ref, 12)\n",
    "rec_quant = quantize(rec, 12)"
   ]
  },
  {
   "cell_type": "code",
   "execution_count": null,
   "id": "4c4567da-da0d-43bc-9893-d40ddfdf3ecf",
   "metadata": {},
   "outputs": [],
   "source": [
    "ref_quant[:40]"
   ]
  },
  {
   "cell_type": "code",
   "execution_count": null,
   "id": "91eb0550-aa2a-49e7-afc6-56fff0031cd6",
   "metadata": {},
   "outputs": [],
   "source": [
    "shift_back_quantized = quantize(np.exp(2 * np.pi * (-freq_shift / fs) * (t) * 1j), 8)"
   ]
  },
  {
   "cell_type": "code",
   "execution_count": null,
   "id": "307aca4d-b7d3-4390-8425-97ee03cc428c",
   "metadata": {},
   "outputs": [],
   "source": [
    "print(shift_back_quantized[:40])"
   ]
  },
  {
   "cell_type": "code",
   "execution_count": null,
   "id": "17f0d2b2-273b-4c10-9bb5-a994db620519",
   "metadata": {},
   "outputs": [],
   "source": [
    "plt.plot(shift_back_quantized.real)"
   ]
  },
  {
   "cell_type": "code",
   "execution_count": null,
   "id": "879af116-894e-4db5-b611-4a0a3363a6a6",
   "metadata": {},
   "outputs": [],
   "source": [
    "plt.plot(rec_quant.real)"
   ]
  },
  {
   "cell_type": "code",
   "execution_count": null,
   "id": "32a91e0b-becc-48c6-95ad-5e7fcc0ecf0f",
   "metadata": {},
   "outputs": [],
   "source": [
    "ref_quant_shifted = quantize(ref_quant * shift_back_quantized, 12)"
   ]
  },
  {
   "cell_type": "code",
   "execution_count": null,
   "id": "a5291749-6788-445b-b57c-0533fc88a6fa",
   "metadata": {},
   "outputs": [],
   "source": [
    "print(ref_quant_shifted[:40])"
   ]
  },
  {
   "cell_type": "code",
   "execution_count": null,
   "id": "3e4676f7-91dd-46ff-bc7b-dbf1ef36b355",
   "metadata": {},
   "outputs": [],
   "source": [
    "plt.plot(ref_quant_shifted.real)"
   ]
  },
  {
   "cell_type": "code",
   "execution_count": null,
   "id": "4ff288ac-dbc6-4399-bf20-5b9ea29e96a1",
   "metadata": {},
   "outputs": [],
   "source": [
    "dx = caf_slice_dot(ref_quant, rec_quant, freq_shift, fs, n_bits=8)"
   ]
  },
  {
   "cell_type": "code",
   "execution_count": null,
   "id": "8d3e9aa8-e3d5-4d98-b404-ab6e21ee6e2b",
   "metadata": {},
   "outputs": [],
   "source": [
    "dx_np = np.array(dx)\n",
    "plt.plot(abs(dx_np))\n",
    "plt.grid();"
   ]
  },
  {
   "cell_type": "code",
   "execution_count": null,
   "id": "dd93b1f1-6252-4334-918c-b8c3276a25e5",
   "metadata": {},
   "outputs": [],
   "source": [
    "np.max(abs(dx_np))"
   ]
  },
  {
   "cell_type": "code",
   "execution_count": null,
   "id": "62016f44-c1c3-4d6f-a9c2-2ae28cce1516",
   "metadata": {},
   "outputs": [],
   "source": [
    "np.argmax(abs(dx_np))"
   ]
  }
 ],
 "metadata": {
  "kernelspec": {
   "display_name": "Python 3 (ipykernel)",
   "language": "python",
   "name": "python3"
  },
  "language_info": {
   "codemirror_mode": {
    "name": "ipython",
    "version": 3
   },
   "file_extension": ".py",
   "mimetype": "text/x-python",
   "name": "python",
   "nbconvert_exporter": "python",
   "pygments_lexer": "ipython3",
   "version": "3.9.18"
  }
 },
 "nbformat": 4,
 "nbformat_minor": 5
}
