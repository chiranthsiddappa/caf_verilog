{
 "cells": [
  {
   "cell_type": "markdown",
   "id": "1c34cc02-9d82-4cd3-9ae2-11ab29b9749c",
   "metadata": {},
   "source": [
    "# Bit Growth Modelling"
   ]
  },
  {
   "cell_type": "code",
   "execution_count": null,
   "id": "ae748d75-cce8-4af3-a6ff-7da6e853bd95",
   "metadata": {},
   "outputs": [],
   "source": [
    "import numpy as np\n",
    "from matplotlib import pyplot as plt"
   ]
  },
  {
   "cell_type": "code",
   "execution_count": null,
   "id": "5530faa5-05d5-4ed8-a5d9-6a18b791901e",
   "metadata": {},
   "outputs": [],
   "source": [
    "adder_growth = {}\n",
    "for bits in range(8, 14+1):\n",
    "    length = 1\n",
    "    # Find size of all lengths up to 64-bits\n",
    "    # Store the array pairing"
   ]
  }
 ],
 "metadata": {
  "kernelspec": {
   "display_name": "Python 3 (ipykernel)",
   "language": "python",
   "name": "python3"
  },
  "language_info": {
   "codemirror_mode": {
    "name": "ipython",
    "version": 3
   },
   "file_extension": ".py",
   "mimetype": "text/x-python",
   "name": "python",
   "nbconvert_exporter": "python",
   "pygments_lexer": "ipython3",
   "version": "3.10.12"
  }
 },
 "nbformat": 4,
 "nbformat_minor": 5
}
