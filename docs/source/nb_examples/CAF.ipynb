{
 "cells": [
  {
   "cell_type": "markdown",
   "metadata": {},
   "source": [
    "# Complex Ambiguity Function (CAF)"
   ]
  },
  {
   "cell_type": "code",
   "execution_count": null,
   "metadata": {},
   "outputs": [],
   "source": [
    "%pylab inline"
   ]
  },
  {
   "cell_type": "code",
   "execution_count": null,
   "metadata": {},
   "outputs": [],
   "source": [
    "from caf_verilog import sim_helper as sh\n",
    "from caf_verilog.caf import simple_caf\n",
    "from gps_helper.prn import PRN\n",
    "from sk_dsp_comm import sigsys as ss\n",
    "from sk_dsp_comm import digitalcom as dc"
   ]
  },
  {
   "cell_type": "code",
   "execution_count": null,
   "metadata": {},
   "outputs": [],
   "source": [
    "prn = PRN(10)\n",
    "prn2 = PRN(20)\n",
    "fs = 625e3\n",
    "Ns = fs / 50e3\n",
    "prn_seq = prn.prn_seq()\n",
    "prn_seq2 = prn2.prn_seq()\n",
    "prn_seq,b = ss.NRZ_bits2(array(prn_seq), Ns)\n",
    "prn_seq2,b2 = ss.NRZ_bits2(array(prn_seq2), Ns)"
   ]
  },
  {
   "cell_type": "code",
   "execution_count": null,
   "metadata": {},
   "outputs": [],
   "source": [
    "Px,f = psd(prn_seq, 2**12, Fs=fs)\n",
    "plot(f, 10*np.log10(Px))"
   ]
  },
  {
   "cell_type": "markdown",
   "metadata": {},
   "source": [
    "## Single Frequency Slice"
   ]
  },
  {
   "cell_type": "code",
   "execution_count": null,
   "metadata": {},
   "outputs": [],
   "source": [
    "n = arange(0, len(prn_seq))\n",
    "theta_shift = exp(1j*2*pi*n*(50e3)/float(fs))"
   ]
  },
  {
   "cell_type": "code",
   "execution_count": null,
   "metadata": {},
   "outputs": [],
   "source": [
    "Px, f = psd(prn_seq * theta_shift, 2**12, Fs=fs)\n",
    "plot(f, 10 * np.log10(Px))"
   ]
  },
  {
   "cell_type": "code",
   "execution_count": null,
   "metadata": {},
   "outputs": [],
   "source": [
    "Rxy, lags = dc.xcorr(prn_seq, prn_seq, len(prn_seq))\n",
    "plot(lags, abs(Rxy))\n",
    "ylim([0, 1])"
   ]
  },
  {
   "cell_type": "code",
   "execution_count": null,
   "metadata": {},
   "outputs": [],
   "source": [
    "Rxy, lags = dc.xcorr(prn_seq, prn_seq * theta_shift, len(prn_seq))\n",
    "plot(lags, abs(Rxy))\n",
    "ylim([0, 1])"
   ]
  },
  {
   "cell_type": "code",
   "execution_count": null,
   "metadata": {},
   "outputs": [],
   "source": [
    "f_size = 100\n",
    "foas = arange(-f_size, f_size + 1) * 0.25\n",
    "foas"
   ]
  },
  {
   "cell_type": "code",
   "execution_count": null,
   "metadata": {},
   "outputs": [],
   "source": [
    "theta_shift = exp(1j*2*pi*n*(2.5)/float(fs))\n",
    "prn_shift = prn_seq * theta_shift\n",
    "CAF, dt = simple_caf(prn_seq * hanning(len(prn_seq)), prn_shift * hanning(len(prn_seq)), foas, fs)\n",
    "CAF.shape"
   ]
  },
  {
   "cell_type": "code",
   "execution_count": null,
   "metadata": {},
   "outputs": [],
   "source": [
    "X,Y = meshgrid(foas, dt)\n",
    "contourf(X,Y,CAF)\n",
    "ylabel(r'TOA/TDOA $\\mu$s')\n",
    "xlabel(r'FOA/FDOA (Hz)')\n",
    "xlim([-5, 5])"
   ]
  },
  {
   "cell_type": "markdown",
   "metadata": {},
   "source": [
    "## CAF Module"
   ]
  },
  {
   "cell_type": "code",
   "execution_count": null,
   "metadata": {},
   "outputs": [],
   "source": [
    "from caf_verilog.caf import CAF\n",
    "from caf_verilog.sim_helper import sim_shift"
   ]
  },
  {
   "cell_type": "code",
   "execution_count": null,
   "metadata": {},
   "outputs": [],
   "source": [
    "center = 300\n",
    "corr_length = 250\n",
    "shift = 25\n",
    "ref, rec = sim_shift(prn_seq, center, corr_length, shift=shift)\n",
    "caf = CAF(ref, rec, foas)"
   ]
  },
  {
   "cell_type": "code",
   "execution_count": null,
   "metadata": {},
   "outputs": [],
   "source": []
  }
 ],
 "metadata": {
  "kernelspec": {
   "display_name": "Python 3",
   "language": "python",
   "name": "python3"
  },
  "language_info": {
   "codemirror_mode": {
    "name": "ipython",
    "version": 3
   },
   "file_extension": ".py",
   "mimetype": "text/x-python",
   "name": "python",
   "nbconvert_exporter": "python",
   "pygments_lexer": "ipython3",
   "version": "3.6.7"
  }
 },
 "nbformat": 4,
 "nbformat_minor": 2
}
