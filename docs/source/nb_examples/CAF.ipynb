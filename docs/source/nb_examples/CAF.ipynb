{
 "cells": [
  {
   "cell_type": "markdown",
   "metadata": {},
   "source": [
    "# Complex Ambiguity Function (CAF)"
   ]
  },
  {
   "cell_type": "code",
   "execution_count": null,
   "metadata": {},
   "outputs": [],
   "source": [
    "%pylab inline"
   ]
  },
  {
   "cell_type": "code",
   "execution_count": null,
   "metadata": {},
   "outputs": [],
   "source": [
    "from caf_verilog import sim_helper as sh\n",
    "from caf_verilog.caf import simple_caf\n",
    "from gps_helper.prn import PRN\n",
    "from sk_dsp_comm import sigsys as ss\n",
    "from sk_dsp_comm import digitalcom as dc"
   ]
  },
  {
   "cell_type": "code",
   "execution_count": null,
   "metadata": {},
   "outputs": [],
   "source": [
    "prn = PRN(10)\n",
    "prn2 = PRN(20)\n",
    "fs = 625e3\n",
    "Ns = fs / 200e3\n",
    "prn_seq = prn.prn_seq()\n",
    "prn_seq2 = prn2.prn_seq()\n",
    "prn_seq,b = ss.NRZ_bits2(array(prn_seq), Ns)\n",
    "prn_seq2,b2 = ss.NRZ_bits2(array(prn_seq2), Ns)"
   ]
  },
  {
   "cell_type": "code",
   "execution_count": null,
   "metadata": {},
   "outputs": [],
   "source": [
    "Px,f = psd(prn_seq, 2**12, Fs=fs)\n",
    "plot(f, 10*np.log10(Px))"
   ]
  },
  {
   "cell_type": "code",
   "execution_count": null,
   "metadata": {},
   "outputs": [],
   "source": [
    "f_size = 20\n",
    "foas = arange(-f_size, f_size + 1) * 200\n",
    "foas"
   ]
  },
  {
   "cell_type": "markdown",
   "metadata": {},
   "source": [
    "## CAF Module"
   ]
  },
  {
   "cell_type": "code",
   "execution_count": null,
   "metadata": {},
   "outputs": [],
   "source": [
    "from caf_verilog.caf import CAF\n",
    "from caf_verilog.sim_helper import sim_shift\n",
    "from caf_verilog.xcorr import dot_xcorr"
   ]
  },
  {
   "cell_type": "code",
   "execution_count": null,
   "metadata": {},
   "outputs": [],
   "source": [
    "center = 300\n",
    "corr_length = 250\n",
    "shift = 25\n",
    "ref, rec = sim_shift(prn_seq, center, corr_length, shift=shift)\n",
    "caf = CAF(ref, rec, foas, fs=fs, n_bits=8)\n",
    "caf.gen_tb()"
   ]
  },
  {
   "cell_type": "code",
   "execution_count": null,
   "metadata": {},
   "outputs": [],
   "source": [
    "ncorr = arange(0, corr_length * 2)\n",
    "theta_shift = exp(1j*2*pi*ncorr*(400)/float(fs))\n",
    "xcorr_res = dot_xcorr(ref, rec * theta_shift)"
   ]
  },
  {
   "cell_type": "code",
   "execution_count": null,
   "metadata": {},
   "outputs": [],
   "source": [
    "plot(rec)"
   ]
  },
  {
   "cell_type": "code",
   "execution_count": null,
   "metadata": {
    "scrolled": true
   },
   "outputs": [],
   "source": [
    "plot(abs(array(xcorr_res)))\n",
    "ylim([0, corr_length])\n",
    "grid();"
   ]
  }
 ],
 "metadata": {
  "kernelspec": {
   "display_name": "Python 3",
   "language": "python",
   "name": "python3"
  },
  "language_info": {
   "codemirror_mode": {
    "name": "ipython",
    "version": 3
   },
   "file_extension": ".py",
   "mimetype": "text/x-python",
   "name": "python",
   "nbconvert_exporter": "python",
   "pygments_lexer": "ipython3",
   "version": "3.6.7"
  }
 },
 "nbformat": 4,
 "nbformat_minor": 2
}
