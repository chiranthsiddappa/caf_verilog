{
 "cells": [
  {
   "cell_type": "markdown",
   "metadata": {},
   "source": [
    "# Dot Product (Pipelined)"
   ]
  },
  {
   "cell_type": "code",
   "execution_count": null,
   "metadata": {},
   "outputs": [],
   "source": [
    "from matplotlib.pyplot import plot\n",
    "import numpy as np"
   ]
  },
  {
   "cell_type": "code",
   "execution_count": null,
   "metadata": {},
   "outputs": [],
   "source": [
    "from gps_helper.prn import PRN\n",
    "from sk_dsp_comm import sigsys as ss\n",
    "from sk_dsp_comm import digitalcom as dc\n",
    "from caf_verilog.dot_prod_pip import DotProdPip"
   ]
  },
  {
   "cell_type": "code",
   "execution_count": null,
   "metadata": {},
   "outputs": [],
   "source": [
    "x = np.array([-1, -1, 1, 1])\n",
    "y = np.array([1, 1, -1, -1])\n",
    "np.dot(x, y.T)"
   ]
  },
  {
   "cell_type": "markdown",
   "metadata": {},
   "source": [
    "## Test Signals"
   ]
  },
  {
   "cell_type": "code",
   "execution_count": null,
   "metadata": {},
   "outputs": [],
   "source": [
    "prn = PRN(15)\n",
    "prn2 = PRN(20)\n",
    "fs = 625e3\n",
    "Ns = fs / 125e3\n",
    "prn_seq = prn.prn_seq()\n",
    "prn_seq2 = prn2.prn_seq()\n",
    "prn_seq,b = ss.nrz_bits2(np.array(prn_seq), Ns)\n",
    "prn_seq2,b2 = ss.nrz_bits2(np.array(prn_seq2), Ns)"
   ]
  },
  {
   "cell_type": "markdown",
   "metadata": {},
   "source": [
    "## Dot Product Pipeline Implementation"
   ]
  },
  {
   "cell_type": "code",
   "execution_count": null,
   "metadata": {},
   "outputs": [],
   "source": [
    "dpp = DotProdPip(prn_seq[:8], prn_seq[:8] * -1)\n",
    "dpp.gen_tb()"
   ]
  },
  {
   "cell_type": "code",
   "execution_count": null,
   "metadata": {},
   "outputs": [],
   "source": [
    "dpp.sum_i_bits"
   ]
  }
 ],
 "metadata": {
  "kernelspec": {
   "display_name": "Python 3 (ipykernel)",
   "language": "python",
   "name": "python3"
  },
  "language_info": {
   "codemirror_mode": {
    "name": "ipython",
    "version": 3
   },
   "file_extension": ".py",
   "mimetype": "text/x-python",
   "name": "python",
   "nbconvert_exporter": "python",
   "pygments_lexer": "ipython3",
   "version": "3.8.10"
  }
 },
 "nbformat": 4,
 "nbformat_minor": 4
}
