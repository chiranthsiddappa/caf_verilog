{
 "cells": [
  {
   "cell_type": "markdown",
   "id": "938c6866-e84d-4adf-b0e7-5c6239714590",
   "metadata": {},
   "source": [
    "# CAF Slice"
   ]
  },
  {
   "cell_type": "code",
   "execution_count": null,
   "id": "0569daae-5707-491c-aa8b-49afa6ece7ec",
   "metadata": {},
   "outputs": [],
   "source": [
    "import numpy as np\n",
    "import matplotlib.pyplot as plt\n",
    "import pandas as pd\n",
    "from caf_verilog.caf_slice import caf_slice_dot\n",
    "from caf_verilog.sim_helper import sim_shift\n",
    "from caf_verilog.quantizer import quantize\n",
    "from caf_verilog.xcorr import gen_tb_values\n",
    "from gps_helper.prn import PRN\n",
    "import sk_dsp_comm.sigsys as ss"
   ]
  },
  {
   "cell_type": "markdown",
   "id": "c573b07e-153c-4cc0-8c22-2b4057c3535b",
   "metadata": {},
   "source": [
    "## Time Offsets with the same Frequency Offset\n",
    "\n",
    "Produce the expected test results here to compare first."
   ]
  },
  {
   "cell_type": "code",
   "execution_count": null,
   "id": "79713c03-bbe7-4f34-92c7-96671ad02180",
   "metadata": {},
   "outputs": [],
   "source": [
    "fs = 625e3\n",
    "f_shift = 20e3\n",
    "freq_res = 10\n",
    "n_bits = 8\n",
    "center = 450\n",
    "corr_length = 250\n",
    "default_shift = 0\n",
    "half_length = corr_length / 2\n",
    "shift_range = int(half_length)"
   ]
  },
  {
   "cell_type": "code",
   "execution_count": null,
   "id": "65677ee2-ef70-4b0a-abc5-9ab6490d4335",
   "metadata": {},
   "outputs": [],
   "source": [
    "def generate_test_signals(time_shift, freq_shift, f_samp):\n",
    "    prn = PRN(10)\n",
    "    fs = f_samp\n",
    "    Ns = 5\n",
    "    prn_seq = prn.prn_seq()\n",
    "    prn_seq, b = ss.nrz_bits2(np.array(prn_seq), Ns)\n",
    "    prn_seq = [*prn_seq, *prn_seq]\n",
    "    prn_seq = np.array(prn_seq)\n",
    "    prn_seq = prn_seq + prn_seq * 1j\n",
    "    ref, rec = sim_shift(prn_seq, center, corr_length, shift=time_shift, freq_shift=freq_shift, fs=fs)\n",
    "    ref_quant = quantize(ref, n_bits)\n",
    "    rec_quant = quantize(rec, n_bits)\n",
    "    return ref_quant, rec_quant"
   ]
  },
  {
   "cell_type": "code",
   "execution_count": null,
   "id": "38c5718e-4a5a-4bf2-8279-43e949893c8e",
   "metadata": {},
   "outputs": [],
   "source": [
    "output_cap = []\n",
    "for shift_in_range in range(-1 * shift_range, shift_range + 1, 5):\n",
    "    ref_quant, rec_quant = generate_test_signals(time_shift=shift_in_range, freq_shift=f_shift, f_samp=fs)\n",
    "    assert len(ref_quant) == corr_length\n",
    "    assert len(rec_quant) == corr_length * 2\n",
    "    out = caf_slice_dot(ref_quant, rec_quant, f_shift, fs, n_bits=n_bits)\n",
    "    output_cap.append(out)"
   ]
  },
  {
   "cell_type": "code",
   "execution_count": null,
   "id": "62b8ca3c-7a27-4f20-ade5-d7b3a312e088",
   "metadata": {},
   "outputs": [],
   "source": [
    "plt_vals = np.array(output_cap[25])\n",
    "plt_vals = np.abs(plt_vals)\n",
    "plt.plot(plt_vals)\n",
    "plt.grid();\n",
    "np.argmax(plt_vals)"
   ]
  },
  {
   "cell_type": "code",
   "execution_count": null,
   "id": "34d60fb4-e475-442c-a1fc-5cdf2082f07c",
   "metadata": {},
   "outputs": [],
   "source": [
    "index_verifications = []\n",
    "max_vals = []\n",
    "for dot_arr in output_cap:\n",
    "    da_np = np.array(dot_arr)\n",
    "    plt_vals = np.abs(da_np)\n",
    "    np_am = np.argmax(plt_vals)\n",
    "    index_verifications.append(np_am)\n",
    "    max_vals.append(np.abs(dot_arr[np_am]))"
   ]
  },
  {
   "cell_type": "code",
   "execution_count": null,
   "id": "7748d4b9-cf61-4bbd-85ed-518576ac49f7",
   "metadata": {},
   "outputs": [],
   "source": [
    "plt.plot(max_vals)\n",
    "plt.grid();"
   ]
  },
  {
   "cell_type": "code",
   "execution_count": null,
   "id": "5e34c96f-6365-47ee-b88f-026a36fd60c5",
   "metadata": {},
   "outputs": [],
   "source": [
    "!ls ./caf_slice_v/"
   ]
  },
  {
   "cell_type": "code",
   "execution_count": null,
   "id": "0c98a406-b304-4ced-be99-7b8afdab2261",
   "metadata": {},
   "outputs": [],
   "source": [
    "time_shifts_status_df = pd.read_csv('caf_slice_v/time_shifts_status_file.csv')"
   ]
  },
  {
   "cell_type": "code",
   "execution_count": null,
   "id": "b4afc974-784d-4267-9d36-f7349bd24b5d",
   "metadata": {},
   "outputs": [],
   "source": [
    "time_shifts_status_df"
   ]
  },
  {
   "cell_type": "code",
   "execution_count": null,
   "id": "ea9918f9-253a-4a70-a697-a1c8990af816",
   "metadata": {},
   "outputs": [],
   "source": [
    "plt.plot(time_shifts_status_df['time_shift'], time_shifts_status_df['out_max'])\n",
    "plt.grid();"
   ]
  },
  {
   "cell_type": "markdown",
   "id": "306dfdd1-4a17-427a-be7b-5b9c57987d99",
   "metadata": {},
   "source": [
    "## Frequency Matching with No Time Offset"
   ]
  },
  {
   "cell_type": "code",
   "execution_count": null,
   "id": "ee1781c0-665a-487a-8e3a-2878c92dabee",
   "metadata": {},
   "outputs": [],
   "source": [
    "freq_match_status_df = pd.read_csv('caf_slice_v/freq_match_status_file.csv')"
   ]
  },
  {
   "cell_type": "code",
   "execution_count": null,
   "id": "b3a9d1e1-cb5b-4b35-872f-db52804da619",
   "metadata": {},
   "outputs": [],
   "source": [
    "output_cap = []\n",
    "for f_shift_to_match in freq_match_status_df['frequency_shift']:\n",
    "    ref_quant, rec_quant = generate_test_signals(time_shift=0, freq_shift=f_shift_to_match, f_samp=fs)\n",
    "    assert len(ref_quant) == corr_length\n",
    "    assert len(rec_quant) == corr_length * 2\n",
    "    out = caf_slice_dot(ref_quant, rec_quant, f_shift_to_match, fs)\n",
    "    output_cap.append(out)"
   ]
  },
  {
   "cell_type": "code",
   "execution_count": null,
   "id": "ed553566-7d22-47c5-b8bd-b36007e0e68e",
   "metadata": {},
   "outputs": [],
   "source": [
    "index_verifications = []\n",
    "max_vals = []\n",
    "for dot_arr in output_cap:\n",
    "    da_np = np.array(dot_arr)\n",
    "    plt_vals = np.abs(da_np)\n",
    "    np_am = np.argmax(plt_vals)\n",
    "    index_verifications.append(np_am)\n",
    "    max_vals.append(np.abs(dot_arr[np_am]))"
   ]
  },
  {
   "cell_type": "code",
   "execution_count": null,
   "id": "501fce24-813c-4f0d-92bb-9175b17ec276",
   "metadata": {},
   "outputs": [],
   "source": [
    "plt.plot(max_vals)\n",
    "plt.grid();"
   ]
  },
  {
   "cell_type": "code",
   "execution_count": null,
   "id": "37a6484b-0ba1-448b-8747-377782f541b5",
   "metadata": {},
   "outputs": [],
   "source": [
    "output_cap = []\n",
    "for f_shift_to_match in freq_match_status_df['frequency_shift']:\n",
    "    ref_quant, rec_quant = generate_test_signals(time_shift=0, freq_shift=f_shift_to_match, f_samp=fs)\n",
    "    assert len(ref_quant) == corr_length\n",
    "    assert len(rec_quant) == corr_length * 2\n",
    "    out = caf_slice_dot(ref_quant, rec_quant, f_shift_to_match, fs, n_bits=8)\n",
    "    output_cap.append(out)"
   ]
  },
  {
   "cell_type": "code",
   "execution_count": null,
   "id": "53974dc8-a90a-4bf5-9ae4-55ed6b089310",
   "metadata": {},
   "outputs": [],
   "source": [
    "index_verifications = []\n",
    "max_vals = []\n",
    "for dot_arr in output_cap:\n",
    "    da_np = np.array(dot_arr)\n",
    "    plt_vals = np.abs(da_np)\n",
    "    np_am = np.argmax(plt_vals)\n",
    "    index_verifications.append(np_am)\n",
    "    max_vals.append(np.abs(dot_arr[np_am]))"
   ]
  },
  {
   "cell_type": "code",
   "execution_count": null,
   "id": "b0727182-1063-47d7-ad1f-dbfa018d6b3a",
   "metadata": {},
   "outputs": [],
   "source": [
    "plt.plot(max_vals)\n",
    "plt.grid();"
   ]
  },
  {
   "cell_type": "code",
   "execution_count": null,
   "id": "8634867e-8406-48fa-b384-d827ad5cbba6",
   "metadata": {},
   "outputs": [],
   "source": [
    "freq_match_status_df"
   ]
  },
  {
   "cell_type": "code",
   "execution_count": null,
   "id": "03129213-a9cf-4931-a999-de9ebe7959f3",
   "metadata": {},
   "outputs": [],
   "source": [
    "plt.plot(freq_match_status_df['frequency_shift'], freq_match_status_df['out_max'])\n",
    "plt.grid();"
   ]
  }
 ],
 "metadata": {
  "kernelspec": {
   "display_name": "Python 3 (ipykernel)",
   "language": "python",
   "name": "python3"
  },
  "language_info": {
   "codemirror_mode": {
    "name": "ipython",
    "version": 3
   },
   "file_extension": ".py",
   "mimetype": "text/x-python",
   "name": "python",
   "nbconvert_exporter": "python",
   "pygments_lexer": "ipython3",
   "version": "3.9.18"
  }
 },
 "nbformat": 4,
 "nbformat_minor": 5
}
