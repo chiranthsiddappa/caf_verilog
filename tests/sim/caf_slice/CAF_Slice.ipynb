{
 "cells": [
  {
   "cell_type": "markdown",
   "id": "938c6866-e84d-4adf-b0e7-5c6239714590",
   "metadata": {},
   "source": [
    "# CAF Slice"
   ]
  },
  {
   "cell_type": "code",
   "execution_count": null,
   "id": "0569daae-5707-491c-aa8b-49afa6ece7ec",
   "metadata": {},
   "outputs": [],
   "source": [
    "import numpy as np\n",
    "import matplotlib.pyplot as plt\n",
    "import pandas as pd"
   ]
  },
  {
   "cell_type": "code",
   "execution_count": null,
   "id": "5e34c96f-6365-47ee-b88f-026a36fd60c5",
   "metadata": {},
   "outputs": [],
   "source": [
    "!ls ./caf_slice_v/"
   ]
  },
  {
   "cell_type": "code",
   "execution_count": null,
   "id": "0c98a406-b304-4ced-be99-7b8afdab2261",
   "metadata": {},
   "outputs": [],
   "source": [
    "time_shifts_status_df = pd.read_csv('caf_slice_v/time_shifts_status_file.csv')"
   ]
  },
  {
   "cell_type": "code",
   "execution_count": null,
   "id": "b4afc974-784d-4267-9d36-f7349bd24b5d",
   "metadata": {},
   "outputs": [],
   "source": [
    "time_shifts_status_df"
   ]
  },
  {
   "cell_type": "code",
   "execution_count": null,
   "id": "ea9918f9-253a-4a70-a697-a1c8990af816",
   "metadata": {},
   "outputs": [],
   "source": [
    "plt.plot(time_shifts_status_df['time_shift'], time_shifts_status_df['out_max'])\n",
    "plt.grid();"
   ]
  },
  {
   "cell_type": "code",
   "execution_count": null,
   "id": "ee1781c0-665a-487a-8e3a-2878c92dabee",
   "metadata": {},
   "outputs": [],
   "source": [
    "freq_match_status_df = pd.read_csv('caf_slice_v/freq_match_status_file.csv')"
   ]
  },
  {
   "cell_type": "code",
   "execution_count": null,
   "id": "8634867e-8406-48fa-b384-d827ad5cbba6",
   "metadata": {},
   "outputs": [],
   "source": [
    "freq_match_status_df"
   ]
  },
  {
   "cell_type": "code",
   "execution_count": null,
   "id": "03129213-a9cf-4931-a999-de9ebe7959f3",
   "metadata": {},
   "outputs": [],
   "source": [
    "plt.plot(freq_match_status_df['frequency_shift'], freq_match_status_df['out_max'])\n",
    "plt.grid();"
   ]
  }
 ],
 "metadata": {
  "kernelspec": {
   "display_name": "Python 3 (ipykernel)",
   "language": "python",
   "name": "python3"
  },
  "language_info": {
   "codemirror_mode": {
    "name": "ipython",
    "version": 3
   },
   "file_extension": ".py",
   "mimetype": "text/x-python",
   "name": "python",
   "nbconvert_exporter": "python",
   "pygments_lexer": "ipython3",
   "version": "3.9.18"
  }
 },
 "nbformat": 4,
 "nbformat_minor": 5
}
