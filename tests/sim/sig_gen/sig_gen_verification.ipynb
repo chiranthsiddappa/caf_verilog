{
 "cells": [
  {
   "cell_type": "markdown",
   "id": "044ded88-d6df-4916-83e4-b274d4005b51",
   "metadata": {},
   "source": [
    "# Signal Generator Output Verification"
   ]
  },
  {
   "cell_type": "code",
   "execution_count": null,
   "id": "86a76d98-bee3-48a8-8ba6-fd44c3d9ed24",
   "metadata": {},
   "outputs": [],
   "source": [
    "import pandas as pd\n",
    "from matplotlib.pyplot import psd, title, xlabel, ylabel, plot, xlim, ylim\n",
    "import numpy as np"
   ]
  },
  {
   "cell_type": "markdown",
   "id": "b7d18eb5-8a92-4462-beae-29c3c30d2fac",
   "metadata": {},
   "source": [
    "## FS / 4"
   ]
  },
  {
   "cell_type": "code",
   "execution_count": null,
   "id": "e48b1ad5-07c3-49e1-8b06-c0a0b8bbbbd5",
   "metadata": {},
   "outputs": [],
   "source": [
    "fs = 625e3\n",
    "f_out = fs / 4"
   ]
  },
  {
   "cell_type": "code",
   "execution_count": null,
   "id": "f1f9c434-f14a-4a27-a3f3-49e8d2b28955",
   "metadata": {},
   "outputs": [],
   "source": [
    "fs_4 = pd.read_csv('sim_build/sig_gen_output_156250.txt')"
   ]
  },
  {
   "cell_type": "code",
   "execution_count": null,
   "id": "85edcbe5-bc24-4cf9-9a64-a7467d49deb7",
   "metadata": {},
   "outputs": [],
   "source": [
    "fs_4['cosine_out'][:12].plot()\n",
    "fs_4['cosine_q'][:12].plot()\n",
    "title(r'Quantized Cosine Output')\n",
    "ylabel(\"8-bit Magnitude\")\n",
    "xlabel(\"N-th Sample\");"
   ]
  },
  {
   "cell_type": "code",
   "execution_count": null,
   "id": "85dcce29-acdb-4ef5-a71b-fd749862e0fb",
   "metadata": {},
   "outputs": [],
   "source": [
    "fs_4['sine_out'][:12].plot()\n",
    "fs_4['sine_q'][:12].plot()\n",
    "title(r'Quantized Sine Output')\n",
    "ylabel(\"8-bit Magnitude\")\n",
    "xlabel(\"N-th Sample\");"
   ]
  },
  {
   "cell_type": "code",
   "execution_count": null,
   "id": "c2a3496d-1ad5-425b-87b5-8079fb15c201",
   "metadata": {},
   "outputs": [],
   "source": [
    "Px, ff = psd(fs_4['cosine_out'], 2**12, fs)\n",
    "plot(ff, 10*np.log10(Px))\n",
    "Px, ff = psd(fs_4['cosine_q'], 2**12, fs)\n",
    "plot(ff, 10*np.log10(Px))\n",
    "xlim([f_out - 1e3, f_out + 1e3])\n",
    "ylim([-80, 20])\n",
    "xlabel(\"Frequency (Hz)\")\n",
    "title(\"Output Spectrum Centered at fs / 4\");"
   ]
  },
  {
   "cell_type": "markdown",
   "id": "e119f9fe-a6c9-41aa-b4fc-e8c115d94fbb",
   "metadata": {},
   "source": [
    "## 20 kHz"
   ]
  },
  {
   "cell_type": "code",
   "execution_count": null,
   "id": "701e05a6-010a-4ae0-a289-e048b7bed987",
   "metadata": {},
   "outputs": [],
   "source": [
    "f_out = 20e3"
   ]
  },
  {
   "cell_type": "code",
   "execution_count": null,
   "id": "fcc464f5-c627-4e92-8c31-e14c6182c7e4",
   "metadata": {},
   "outputs": [],
   "source": [
    "fs_20e3 = pd.read_csv('sim_build/sig_gen_output_20000.txt')"
   ]
  },
  {
   "cell_type": "code",
   "execution_count": null,
   "id": "4db438a2-f072-4659-a6dd-f16dccb277a8",
   "metadata": {},
   "outputs": [],
   "source": [
    "fs_20e3['cosine_out'][2000:2040].plot()\n",
    "fs_20e3['cosine_q'][2000:2040].plot()\n",
    "title(r'Quantized Cosine Output')\n",
    "ylabel(\"8-bit Magnitude\")\n",
    "xlabel(\"N-th Sample\");"
   ]
  },
  {
   "cell_type": "code",
   "execution_count": null,
   "id": "e66538d0-5069-413c-970c-5e5a90342a84",
   "metadata": {},
   "outputs": [],
   "source": [
    "fs_20e3['sine_out'][2000:2040].plot()\n",
    "fs_20e3['sine_q'][2000:2040].plot()\n",
    "title(r'Quantized Sine Output')\n",
    "ylabel(\"8-bit Magnitude\")\n",
    "xlabel(\"N-th Sample\");"
   ]
  },
  {
   "cell_type": "code",
   "execution_count": null,
   "id": "1f53e450-2644-4483-89af-d485881ced32",
   "metadata": {},
   "outputs": [],
   "source": [
    "Px, ff_out = psd(fs_20e3['cosine_out'], 2**12, fs)\n",
    "plot(ff_out, 10*np.log10(Px))\n",
    "Px, ff_q = psd(fs_20e3['cosine_q'], 2**12, fs)\n",
    "plot(ff_q, 10*np.log10(Px))\n",
    "xlim([f_out - 1e3, f_out + 1e3])\n",
    "ylim([-80, 20])\n",
    "xlabel(\"Frequency (Hz)\")\n",
    "title(\"Output Spectrum Centered at fs / 4\");"
   ]
  }
 ],
 "metadata": {
  "kernelspec": {
   "display_name": "Python 3 (ipykernel)",
   "language": "python",
   "name": "python3"
  },
  "language_info": {
   "codemirror_mode": {
    "name": "ipython",
    "version": 3
   },
   "file_extension": ".py",
   "mimetype": "text/x-python",
   "name": "python",
   "nbconvert_exporter": "python",
   "pygments_lexer": "ipython3",
   "version": "3.9.18"
  }
 },
 "nbformat": 4,
 "nbformat_minor": 5
}
