{
 "cells": [
  {
   "cell_type": "markdown",
   "id": "6fe311ae-f915-4a27-a1f6-b42211d49f8e",
   "metadata": {},
   "source": [
    "# CAF Full Rotate Inspection"
   ]
  },
  {
   "cell_type": "code",
   "execution_count": null,
   "id": "e44eba62-5e7a-4c05-b9c9-b3c9b23eb775",
   "metadata": {},
   "outputs": [],
   "source": [
    "import pandas as pd\n",
    "import matplotlib.pyplot as plt\n",
    "import numpy as np"
   ]
  },
  {
   "cell_type": "code",
   "execution_count": null,
   "id": "0feac397-985f-4a7d-833d-886d812408c0",
   "metadata": {},
   "outputs": [],
   "source": [
    "caf_fr = pd.read_csv('caf_v_full_rotate/caf_full_rotate_status_file.csv')\n",
    "caf_fr"
   ]
  },
  {
   "cell_type": "code",
   "execution_count": null,
   "id": "a99ba11d-1bd9-4115-a0e1-b3fb51d06b22",
   "metadata": {},
   "outputs": [],
   "source": [
    "len(caf_fr['foa'].unique())"
   ]
  },
  {
   "cell_type": "code",
   "execution_count": null,
   "id": "03cd5914-378d-4b79-921f-8771af0d4895",
   "metadata": {},
   "outputs": [],
   "source": [
    "caf_fr['time_index'].unique()"
   ]
  },
  {
   "cell_type": "code",
   "execution_count": null,
   "id": "3bc53ce6-36c2-4300-ba78-343a842dafe1",
   "metadata": {},
   "outputs": [],
   "source": [
    "ncols = len(caf_fr['time_index'].unique())"
   ]
  },
  {
   "cell_type": "code",
   "execution_count": null,
   "id": "3f0e1a12-a782-43b1-a3c9-8c81ff246beb",
   "metadata": {},
   "outputs": [],
   "source": [
    "surface_2d = np.reshape(caf_fr['out_max'], (-1, ncols))"
   ]
  },
  {
   "cell_type": "code",
   "execution_count": null,
   "id": "9dbed9c6-8feb-4d40-beac-0eecff047a83",
   "metadata": {},
   "outputs": [],
   "source": [
    "np.shape(surface_2d)"
   ]
  },
  {
   "cell_type": "code",
   "execution_count": null,
   "id": "1ae3fa27-1469-4fb3-b84d-649f3a8b8156",
   "metadata": {},
   "outputs": [],
   "source": [
    "plt.imshow(surface_2d, aspect='auto', interpolation='none');"
   ]
  },
  {
   "cell_type": "markdown",
   "id": "6c3f0bee-8991-417e-8e2f-bbd192a73116",
   "metadata": {},
   "source": [
    "Now, removing previous argmax values at frequency shift 0 (no shift)."
   ]
  },
  {
   "cell_type": "code",
   "execution_count": null,
   "id": "d95f63a0-a88a-4fcc-9a3e-13f5997fce3c",
   "metadata": {},
   "outputs": [],
   "source": [
    "plt.imshow(surface_2d[0:100] + surface_2d[101:], aspect='auto', interpolation='none');"
   ]
  }
 ],
 "metadata": {
  "kernelspec": {
   "display_name": "Python 3 (ipykernel)",
   "language": "python",
   "name": "python3"
  },
  "language_info": {
   "codemirror_mode": {
    "name": "ipython",
    "version": 3
   },
   "file_extension": ".py",
   "mimetype": "text/x-python",
   "name": "python",
   "nbconvert_exporter": "python",
   "pygments_lexer": "ipython3",
   "version": "3.9.18"
  }
 },
 "nbformat": 4,
 "nbformat_minor": 5
}
